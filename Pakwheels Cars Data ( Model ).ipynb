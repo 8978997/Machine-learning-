{
 "cells": [
  {
   "cell_type": "code",
   "execution_count": null,
   "id": "bf7117d0-2e5a-442f-bef2-494d99b9ea59",
   "metadata": {},
   "outputs": [],
   "source": [
    "from sklearn.tree import DecisionTreeRegressor\n",
    "from sklearn.metrics import mean_squared_error, r2_score , mean_absolute_error, accuracy_score\n",
    "from sklearn.preprocessing import StandardScaler\n",
    "from sklearn.ensemble import RandomForestRegressor, GradientBoostingRegressor\n",
    "from sklearn.model_selection import GridSearchCV, cross_val_score, train_test_split, RandomizedSearchCV\n",
    "from category_encoders import OneHotEncoder\n",
    "from sklearn.preprocessing import LabelEncoder\n",
    "from sklearn.impute import SimpleImputer\n",
    "from sklearn.svm import SVR\n",
    "from sklearn.linear_model import LinearRegression\n",
    "from xgboost import XGBRegressor\n",
    "from sklearn.pipeline import Pipeline, make_pipeline\n",
    "import matplotlib.pyplot as plt\n",
    "from sklearn.svm import LinearSVR\n",
    "import seaborn as sns\n",
    "import pandas as pd\n",
    "import numpy as np\n",
    "import pickle\n",
    "\n",
    "from sklearn.feature_selection import mutual_info_regression"
   ]
  },
  {
   "cell_type": "code",
   "execution_count": null,
   "id": "88b804ac-af64-4b53-830a-ac9340be5d14",
   "metadata": {},
   "outputs": [],
   "source": [
    "df = pd.read_csv(r\"C:\\Users\\Admin\\Desktop\\All files\\csv files\\pak wheel\\Pakwheel Data.csv\")\n",
    "df.head()\n"
   ]
  },
  {
   "cell_type": "code",
   "execution_count": null,
   "id": "5d53c6d4-a9b6-4a24-9cb7-b97b42e3366d",
   "metadata": {},
   "outputs": [],
   "source": [
    "df.shape"
   ]
  },
  {
   "cell_type": "code",
   "execution_count": null,
   "id": "c8e8de07-132a-452c-81d8-81b037dfeda0",
   "metadata": {},
   "outputs": [],
   "source": [
    "df.drop(columns = 'Unnamed: 0', inplace = True)"
   ]
  },
  {
   "cell_type": "code",
   "execution_count": null,
   "id": "500bdf08-cebf-4c7e-8088-3f9c3477ce2f",
   "metadata": {},
   "outputs": [],
   "source": [
    "df['Title'].nunique()"
   ]
  },
  {
   "cell_type": "code",
   "execution_count": null,
   "id": "c52c62e6-e781-4c98-96e0-9360b39e6aae",
   "metadata": {},
   "outputs": [],
   "source": [
    "df['Title'][:5]"
   ]
  },
  {
   "cell_type": "markdown",
   "id": "78773c31-c996-4766-bac9-21ddfc1b9f76",
   "metadata": {},
   "source": [
    "<h1>Data Cleaning<h1/>"
   ]
  },
  {
   "cell_type": "code",
   "execution_count": null,
   "id": "5aa37e14-e597-43f7-8659-d71566c49123",
   "metadata": {},
   "outputs": [],
   "source": [
    "df['CarName'] = df['Title'].str.split('\\d{4}').str[0].str.strip()"
   ]
  },
  {
   "cell_type": "code",
   "execution_count": null,
   "id": "bb81361c-6c9a-4e2d-8737-725349bc5e50",
   "metadata": {},
   "outputs": [],
   "source": [
    "df.head()"
   ]
  },
  {
   "cell_type": "code",
   "execution_count": null,
   "id": "d4de987b-3b41-4ecb-aa97-60f24cb1711b",
   "metadata": {},
   "outputs": [],
   "source": [
    "df['CarName'].nunique()"
   ]
  },
  {
   "cell_type": "code",
   "execution_count": null,
   "id": "7f7e31d0-ccf6-467d-816e-340cc9183690",
   "metadata": {},
   "outputs": [],
   "source": [
    "df.drop(columns = 'Title', inplace = True)"
   ]
  },
  {
   "cell_type": "code",
   "execution_count": null,
   "id": "1254e760-ec7a-4369-ba9d-3336686275cd",
   "metadata": {},
   "outputs": [],
   "source": [
    "pattern = r'\\s*cc$'\n",
    "\n",
    "df['CC'] = df['CC'].str.replace(pattern, '', regex = True)"
   ]
  },
  {
   "cell_type": "code",
   "execution_count": null,
   "id": "f1231463-b388-47c4-87fc-dafd14e17baa",
   "metadata": {},
   "outputs": [],
   "source": [
    "df.head()"
   ]
  },
  {
   "cell_type": "code",
   "execution_count": null,
   "id": "f2e12621-5509-46c3-9f5e-021858697657",
   "metadata": {},
   "outputs": [],
   "source": [
    "df['Km_Driven'] = df['Km_Driven'].str.replace('km', '', regex = True)"
   ]
  },
  {
   "cell_type": "code",
   "execution_count": null,
   "id": "7bb3bbae-774c-4a79-bf6c-fd40dfad8bbe",
   "metadata": {},
   "outputs": [],
   "source": [
    "df['Km_Driven'] = df['Km_Driven'].str.replace(',', '', regex = True)"
   ]
  },
  {
   "cell_type": "code",
   "execution_count": null,
   "id": "df87b447-562d-41a1-ade9-94487fac4426",
   "metadata": {},
   "outputs": [],
   "source": [
    "df.head()"
   ]
  },
  {
   "cell_type": "code",
   "execution_count": null,
   "id": "93888793-b26d-48ba-b3e4-1b7e77f52a18",
   "metadata": {},
   "outputs": [],
   "source": [
    "df['CarName'][:5]"
   ]
  },
  {
   "cell_type": "code",
   "execution_count": null,
   "id": "a216e841-869a-4c2d-9f25-a2cc4d3253a2",
   "metadata": {
    "scrolled": true
   },
   "outputs": [],
   "source": [
    "df.info()"
   ]
  },
  {
   "cell_type": "code",
   "execution_count": null,
   "id": "13335196-f846-43d9-bfc8-6a2c51a5784f",
   "metadata": {},
   "outputs": [],
   "source": [
    "df['Engine_type'].value_counts()"
   ]
  },
  {
   "cell_type": "markdown",
   "id": "c2f50693-ac36-44a2-950c-3f7641a1a68f",
   "metadata": {},
   "source": [
    "<h1>Data visualization</h1>"
   ]
  },
  {
   "cell_type": "code",
   "execution_count": null,
   "id": "8a57f709-b678-4c6b-99a2-cdc677c9bb85",
   "metadata": {},
   "outputs": [],
   "source": [
    "sns.countplot(data=df, x='Engine_type')\n",
    "plt.xlabel(\"Fuel Type\")\n",
    "plt.ylabel(\"No of Cars\")\n",
    "plt.title(\"Count of cars by fuel type\")\n",
    "plt.show();"
   ]
  },
  {
   "cell_type": "code",
   "execution_count": null,
   "id": "7aa51b75-6d84-4bd8-80a2-61068bd6d661",
   "metadata": {},
   "outputs": [],
   "source": [
    "df = df[~(df['Engine_type']=='Electric')]"
   ]
  },
  {
   "cell_type": "code",
   "execution_count": null,
   "id": "c9f84ca1-55d9-44ee-b59b-2b157f123206",
   "metadata": {},
   "outputs": [],
   "source": [
    "a = df['Transmission'].value_counts()"
   ]
  },
  {
   "cell_type": "code",
   "execution_count": null,
   "id": "11e05882-3d55-450a-affb-a79d0a095d55",
   "metadata": {},
   "outputs": [],
   "source": [
    "df['CC'].apply(lambda x: 1 if 'k' in x else 0 ).value_counts()"
   ]
  },
  {
   "cell_type": "code",
   "execution_count": null,
   "id": "e886fae6-1133-4850-a285-686e5290d9ea",
   "metadata": {},
   "outputs": [],
   "source": [
    "inds = df['CC'].apply(lambda x: None if x=='' else 1).dropna().index\n",
    "\n",
    "df = df.loc[inds].reset_index().drop(columns = ['index'])"
   ]
  },
  {
   "cell_type": "code",
   "execution_count": null,
   "id": "932f8c77-b113-4287-b1d5-ed627d70b141",
   "metadata": {},
   "outputs": [],
   "source": [
    "df['Km_Driven'].apply(lambda x: x if x==',' else '')"
   ]
  },
  {
   "cell_type": "code",
   "execution_count": null,
   "id": "72364e88-c64e-4ed1-8ecd-5c77f69592b8",
   "metadata": {},
   "outputs": [],
   "source": [
    "inds = df['CC'].apply(lambda x: None if 'k' in x else 1 ).dropna().index\n",
    "\n",
    "df = df.loc[inds].reset_index().drop(columns=['index'])"
   ]
  },
  {
   "cell_type": "code",
   "execution_count": null,
   "id": "94e4b502-a1df-4ff0-9663-d9352eb8c949",
   "metadata": {},
   "outputs": [],
   "source": [
    "plt.pie(a.values, labels = a.index,  autopct='%1.1f%%');"
   ]
  },
  {
   "cell_type": "code",
   "execution_count": null,
   "id": "dbdba7a8-0770-4e70-9484-28c913d95f58",
   "metadata": {},
   "outputs": [],
   "source": [
    "df['Model'] = df['Model'].astype(\"int\")\n",
    "df['CC'] = df['CC'].astype(\"int\")\n",
    "df['Km_Driven'] = df['Km_Driven'].astype(\"int\")"
   ]
  },
  {
   "cell_type": "code",
   "execution_count": null,
   "id": "f7400a21-6b99-4d32-837e-e2fe74f8041f",
   "metadata": {},
   "outputs": [],
   "source": [
    "sns.scatterplot(x = 'Km_Driven', y = 'prices', data = df);"
   ]
  },
  {
   "cell_type": "code",
   "execution_count": null,
   "id": "5f8237b4-ddd7-4d22-8a27-5c72b61e6cf3",
   "metadata": {},
   "outputs": [],
   "source": [
    "sns.scatterplot(x = 'Model', y = 'prices', data = df);"
   ]
  },
  {
   "cell_type": "code",
   "execution_count": null,
   "id": "5e8beddd-f3d3-4cc7-b806-dc6fca0377d0",
   "metadata": {},
   "outputs": [],
   "source": [
    "sns.scatterplot(x = 'CC', y = 'prices', data = df);"
   ]
  },
  {
   "cell_type": "code",
   "execution_count": null,
   "id": "aa27a7eb-f9f3-4003-a8e1-20b32e2aa814",
   "metadata": {},
   "outputs": [],
   "source": [
    "df.plot(kind = 'scatter', x = 'Km_Driven', y = 'prices')"
   ]
  },
  {
   "cell_type": "code",
   "execution_count": null,
   "id": "5f2d12bc-1ed1-4daf-8396-6e8761444fcb",
   "metadata": {},
   "outputs": [],
   "source": [
    "df.plot(kind = 'hexbin', x = 'Km_Driven', y = 'prices')"
   ]
  },
  {
   "cell_type": "code",
   "execution_count": null,
   "id": "48dc0c9d-b916-47e0-9720-8aff385cc15e",
   "metadata": {},
   "outputs": [],
   "source": [
    "df.info()"
   ]
  },
  {
   "cell_type": "code",
   "execution_count": null,
   "id": "248b0625-06f2-4d70-b510-283a17cbc188",
   "metadata": {},
   "outputs": [],
   "source": [
    "df.isnull().sum()"
   ]
  },
  {
   "cell_type": "code",
   "execution_count": null,
   "id": "2ce5eb89-d56f-4716-ac3d-5a25d12805b6",
   "metadata": {},
   "outputs": [],
   "source": [
    "missing_values_count = df.isnull().sum()\n",
    "\n",
    "\n",
    "plt.figure(figsize=(10, 6))\n",
    "missing_values_count.plot(kind='bar', color='skyblue')\n",
    "plt.title('Count of Missing Values for Each Column')\n",
    "plt.xlabel('Columns')\n",
    "plt.ylabel('Count of Missing Values')\n",
    "plt.xticks(rotation=45, ha='right')\n",
    "plt.tight_layout()\n",
    "plt.show();"
   ]
  },
  {
   "cell_type": "code",
   "execution_count": null,
   "id": "befbe57f-6210-4d9a-aa66-f8b5ecaaeecd",
   "metadata": {
    "scrolled": true
   },
   "outputs": [],
   "source": [
    "sns.boxplot(data=df, x = 'Engine_type', y = 'prices');"
   ]
  },
  {
   "cell_type": "code",
   "execution_count": null,
   "id": "7d270b2f-496f-4a19-a1be-d7cef115fd87",
   "metadata": {},
   "outputs": [],
   "source": [
    "sns.boxplot(data=df, x = 'Transmission', y = 'prices');"
   ]
  },
  {
   "cell_type": "code",
   "execution_count": null,
   "id": "5ca80751-5f02-4a85-9d49-618ce547dd80",
   "metadata": {},
   "outputs": [],
   "source": [
    "df['CC'].nunique()"
   ]
  },
  {
   "cell_type": "code",
   "execution_count": null,
   "id": "c1fef592-92d2-4773-b046-9a7f2ec14140",
   "metadata": {},
   "outputs": [],
   "source": [
    "df.head()"
   ]
  },
  {
   "cell_type": "markdown",
   "id": "dae12513-98eb-4395-bf0e-03652757d7cd",
   "metadata": {},
   "source": [
    "<h1>Label Encoding</h1>"
   ]
  },
  {
   "cell_type": "code",
   "execution_count": null,
   "id": "e31b9547-1616-4cb5-8fc1-64124fa6d4d4",
   "metadata": {},
   "outputs": [],
   "source": [
    "label_encoder = LabelEncoder()\n",
    "cat_cols = df[['Transmission', 'Engine_type', 'CarName']]\n",
    "\n",
    "label_encoders = {col: LabelEncoder().fit(df[col]) for col in cat_cols}\n",
    "\n",
    "for col in cat_cols:\n",
    "    df[col] = label_encoders[col].transform(df[col])\n",
    "\n",
    "with open('label_encoders.pkl', 'wb') as f:\n",
    "    pickle.dump(label_encoders, f)"
   ]
  },
  {
   "cell_type": "code",
   "execution_count": null,
   "id": "6170134b-7e34-4f88-89e5-110e2b3809d7",
   "metadata": {},
   "outputs": [],
   "source": [
    "df.head()"
   ]
  },
  {
   "cell_type": "code",
   "execution_count": null,
   "id": "03062712-d1f4-434b-a1e3-00b12a9b86c9",
   "metadata": {},
   "outputs": [],
   "source": [
    "df.isnull().sum()"
   ]
  },
  {
   "cell_type": "code",
   "execution_count": null,
   "id": "3a43348d-38ce-4a3f-be92-bb90aa9ab528",
   "metadata": {},
   "outputs": [],
   "source": [
    "df['prices'] = df['prices'].fillna(round(df['prices'].mean(), 2))"
   ]
  },
  {
   "cell_type": "code",
   "execution_count": null,
   "id": "072f4a45-b9a5-4f37-8216-2e3c35346a3e",
   "metadata": {},
   "outputs": [],
   "source": [
    "df.head()"
   ]
  },
  {
   "cell_type": "code",
   "execution_count": null,
   "id": "f9acfaed-4b13-41b1-a9a7-9f50517864b1",
   "metadata": {},
   "outputs": [],
   "source": [
    "X = df.drop(columns = 'prices')\n",
    "y = df['prices']"
   ]
  },
  {
   "cell_type": "markdown",
   "id": "cbdb5fe1-57ce-4601-89c9-f90306b14dd0",
   "metadata": {},
   "source": [
    "<h1>Mutual info Regression</h1>"
   ]
  },
  {
   "cell_type": "code",
   "execution_count": null,
   "id": "696b087f-5910-491f-9a13-48e9658e24aa",
   "metadata": {},
   "outputs": [],
   "source": [
    "mi_scores = mutual_info_regression(X, y)\n",
    "\n",
    "mi_scores_df = pd.DataFrame({'Feature': X.columns, 'MI Score': mi_scores})\n",
    "\n",
    "mi_scores_df_sorted = mi_scores_df.sort_values(by='MI Score', ascending=True)\n",
    "mi_scores_df_sorted"
   ]
  },
  {
   "cell_type": "code",
   "execution_count": null,
   "id": "410a835c-4dbf-41de-b36a-c7bc6dbc6993",
   "metadata": {},
   "outputs": [],
   "source": [
    "\n",
    "plt.figure(figsize=(10, 8))\n",
    "bars = plt.barh(mi_scores_df_sorted['Feature'], mi_scores_df_sorted['MI Score'], color='skyblue')\n",
    "\n",
    "plt.title('Mutual Information Scores of Features', fontsize=16)\n",
    "plt.xlabel('MI Score', fontsize=14)\n",
    "plt.ylabel('Feature', fontsize=14)\n",
    "\n",
    "\n",
    "for bar in bars:\n",
    "    plt.text(bar.get_width(), bar.get_y() + bar.get_height()/2, f'{bar.get_width():.2f}', \n",
    "             va='center', ha='left', fontsize=12, color='black')\n",
    "\n",
    "\n",
    "plt.grid(axis='x', linestyle='--', alpha=0.7)\n",
    "plt.xticks(fontsize=12)\n",
    "plt.yticks(fontsize=12)\n",
    "plt.tight_layout()\n",
    "\n",
    "\n",
    "plt.show();"
   ]
  },
  {
   "cell_type": "code",
   "execution_count": null,
   "id": "caa05c67-c9a7-452c-983d-0cc4baf6ba86",
   "metadata": {},
   "outputs": [],
   "source": [
    "scaler = StandardScaler().fit(X[['Model', 'CC', 'Km_Driven']])\n",
    "\n",
    "\n",
    "X[['Model', 'CC', 'Km_Driven']] = scaler.transform(X[['Model', 'CC', 'Km_Driven']])\n",
    "with open('scaler.pkl', 'wb') as f:\n",
    "    pickle.dump(scaler, f)"
   ]
  },
  {
   "cell_type": "code",
   "execution_count": null,
   "id": "4727b097-f536-4f39-907a-7318fba1379f",
   "metadata": {
    "scrolled": true
   },
   "outputs": [],
   "source": [
    "X.head()"
   ]
  },
  {
   "cell_type": "markdown",
   "id": "3d12938c-3f80-4602-b427-ecca96949044",
   "metadata": {},
   "source": [
    "When i kept test size 20% i got accuracy 79 but on 0.3 i got 85"
   ]
  },
  {
   "cell_type": "code",
   "execution_count": null,
   "id": "c61908f3-e1e0-4c24-b895-2af55e4bc978",
   "metadata": {
    "scrolled": true
   },
   "outputs": [],
   "source": [
    "X_train, X_test, y_train, y_test = train_test_split(X, y, random_state = 42, test_size = 0.3)"
   ]
  },
  {
   "cell_type": "code",
   "execution_count": null,
   "id": "ea1df632-0df4-41ac-94c8-d5cd5d3671ed",
   "metadata": {},
   "outputs": [],
   "source": [
    "X_train['Engine_type'].value_counts()"
   ]
  },
  {
   "cell_type": "markdown",
   "id": "b9fbe47d-2406-4909-a055-e95b57f603bb",
   "metadata": {},
   "source": [
    "<h1>RandomForestRegressor</h1>"
   ]
  },
  {
   "cell_type": "code",
   "execution_count": null,
   "id": "4c91c2a6-6d12-40da-b159-2f765d0fc902",
   "metadata": {},
   "outputs": [],
   "source": [
    "forest = RandomForestRegressor(random_state=42)\n",
    "forest.fit(X_train, y_train)\n",
    "round(forest.score(X_test, y_test), 2) * 100"
   ]
  },
  {
   "cell_type": "code",
   "execution_count": null,
   "id": "6632fb7b-ec22-4d1a-b6e1-ddf24f3d007c",
   "metadata": {},
   "outputs": [],
   "source": [
    "forest_pred = forest.predict(X_test)\n",
    "forest_pred"
   ]
  },
  {
   "cell_type": "code",
   "execution_count": null,
   "id": "a85f53a3-463d-4cfa-a88f-7446151393c0",
   "metadata": {},
   "outputs": [],
   "source": [
    "acc_train = forest.score(X_train, y_train)\n",
    "acc_test = forest.score(X_test, y_test)\n",
    "\n",
    "print(\"Training Accuracy:\", round(acc_train, 4))\n",
    "print(\"Test Accuracy:\", round(acc_test, 4))"
   ]
  },
  {
   "cell_type": "code",
   "execution_count": null,
   "id": "ba5cffa4-555f-4d3b-a3ff-fc91145ff43d",
   "metadata": {},
   "outputs": [],
   "source": [
    "importances = forest.feature_importances_\n",
    "importances"
   ]
  },
  {
   "cell_type": "code",
   "execution_count": null,
   "id": "4ae1be67-8fc3-4c8a-9f14-1d45b2fa07ee",
   "metadata": {},
   "outputs": [],
   "source": [
    "indices = np.argsort(importances)[::-1]\n",
    "indices"
   ]
  },
  {
   "cell_type": "code",
   "execution_count": null,
   "id": "1dbd972f-7338-4f8c-891f-a4c3cd32b462",
   "metadata": {},
   "outputs": [],
   "source": [
    "names = [X_train.columns[i] for i in indices]\n",
    "names"
   ]
  },
  {
   "cell_type": "code",
   "execution_count": null,
   "id": "47898dbc-e180-462e-8e41-e91a856e9b23",
   "metadata": {},
   "outputs": [],
   "source": [
    "plt.figure(figsize=(10, 6))\n",
    "plt.title(\"Feature Importances\")\n",
    "plt.bar(range(X_train.shape[1]), importances[indices])\n",
    "plt.xticks(range(X_train.shape[1]), names, rotation=90)\n",
    "plt.show()"
   ]
  },
  {
   "cell_type": "markdown",
   "id": "902ee801-27e3-4c1b-a2dd-430b8f18118b",
   "metadata": {},
   "source": [
    "<h1>GradientBoostingRegressor</h1>"
   ]
  },
  {
   "cell_type": "code",
   "execution_count": null,
   "id": "aecaf97b-3a56-4c40-b512-ffcbc344b55f",
   "metadata": {},
   "outputs": [],
   "source": [
    "clr2 = GradientBoostingRegressor()"
   ]
  },
  {
   "cell_type": "code",
   "execution_count": null,
   "id": "1ca14935-2ec6-48f3-a376-d60785d457d7",
   "metadata": {},
   "outputs": [],
   "source": [
    "params = {\n",
    "    'n_estimators' : range(25, 200, 25),\n",
    "    'max_depth' : range(10, 100, 10)\n",
    "}"
   ]
  },
  {
   "cell_type": "code",
   "execution_count": null,
   "id": "4c24b073-8868-4219-be36-e13ef117e5e3",
   "metadata": {},
   "outputs": [],
   "source": [
    "model_gredb = GridSearchCV(\n",
    "    clr2,\n",
    "    verbose = 1,\n",
    "    cv = 5,\n",
    "    n_jobs = -1,\n",
    "    param_grid = params\n",
    ")"
   ]
  },
  {
   "cell_type": "code",
   "execution_count": null,
   "id": "b30394a2-255a-498e-bb35-612200e13939",
   "metadata": {},
   "outputs": [],
   "source": [
    "model_gredb.fit(X_train, y_train)"
   ]
  },
  {
   "cell_type": "code",
   "execution_count": null,
   "id": "3bdfddf7-ccb0-4445-ba30-d81437d38d88",
   "metadata": {},
   "outputs": [],
   "source": [
    "gred_pred = model_gredb.predict(X_test)\n",
    "gred_pred"
   ]
  },
  {
   "cell_type": "code",
   "execution_count": null,
   "id": "e83feae2-ac6e-4431-b0da-82ecd70517b2",
   "metadata": {},
   "outputs": [],
   "source": [
    "Mae_gred = mean_absolute_error(y_test, gred_pred)\n",
    "print(\"Mean Absolute Error:\" , Mae_gred)"
   ]
  },
  {
   "cell_type": "code",
   "execution_count": null,
   "id": "3a90875d-9818-45ab-8514-cc8eb1e86670",
   "metadata": {},
   "outputs": [],
   "source": [
    "r23 = r2_score(y_test, gred_pred)\n",
    "print('R-squared Score:', round(r23, 2))"
   ]
  },
  {
   "cell_type": "code",
   "execution_count": null,
   "id": "0025cf2d-a144-4b56-97bc-d605483f09d6",
   "metadata": {},
   "outputs": [],
   "source": [
    "acc_train = model_gredb.score(X_train, y_train)\n",
    "acc_test = model_gredb.score(X_test, y_test)\n",
    "\n",
    "print(\"Training Accuracy:\", round(acc_train, 4))\n",
    "print(\"Test Accuracy:\", round(acc_test, 4))"
   ]
  },
  {
   "cell_type": "code",
   "execution_count": null,
   "id": "3326e151-2040-49ae-96ba-56da4e2233ff",
   "metadata": {},
   "outputs": [],
   "source": []
  },
  {
   "cell_type": "markdown",
   "id": "59d81499-d17a-441a-ba20-203c9df7b1d6",
   "metadata": {},
   "source": [
    "<h1>\n",
    "    Cross Validation\n",
    "</h1>"
   ]
  },
  {
   "cell_type": "code",
   "execution_count": null,
   "id": "119a96c5-e9f3-474a-80ca-b9f4c3f398fc",
   "metadata": {},
   "outputs": [],
   "source": [
    "my_pipeline = Pipeline(steps = [('model', RandomForestRegressor(random_state=42, n_estimators=50))])"
   ]
  },
  {
   "cell_type": "code",
   "execution_count": null,
   "id": "aa581c28-1a00-4146-a2e2-3548d6aeec0f",
   "metadata": {},
   "outputs": [],
   "source": [
    "cv_acc_scores = cross_val_score(my_pipeline, X_train, y_train, cv = 5, n_jobs = -1)\n",
    "print(cv_acc_scores.mean())"
   ]
  },
  {
   "cell_type": "markdown",
   "id": "65d4f27f-848f-4cad-80e0-434667f61452",
   "metadata": {},
   "source": [
    "<h1>\n",
    "    XGBRegressor\n",
    "</h1>"
   ]
  },
  {
   "cell_type": "code",
   "execution_count": null,
   "id": "ca9cfa47-da1b-4a3f-95d3-d2ba3ae08f60",
   "metadata": {},
   "outputs": [],
   "source": [
    "model_xgb = XGBRegressor(n_estimators = 1000, random_state = 42)"
   ]
  },
  {
   "cell_type": "code",
   "execution_count": null,
   "id": "55f0d26d-982a-49ea-8713-68c3105dd5ee",
   "metadata": {},
   "outputs": [],
   "source": [
    "model_xgb.fit(X_train, y_train, verbose = False, early_stopping_rounds = 5, eval_set = [(X_train, y_train)])"
   ]
  },
  {
   "cell_type": "code",
   "execution_count": null,
   "id": "d3822f98-ea10-4bf7-8458-420a3ddb4a48",
   "metadata": {},
   "outputs": [],
   "source": [
    "xgb_pred = model_xgb.predict(X_test)\n",
    "xgb_pred"
   ]
  },
  {
   "cell_type": "code",
   "execution_count": null,
   "id": "58a0be45-105f-4e00-8825-279b16ca1092",
   "metadata": {},
   "outputs": [],
   "source": [
    "Mae_gred = mean_absolute_error(y_test, xgb_pred)\n",
    "print(\"Mean Absolute Error:\" , Mae_gred)"
   ]
  },
  {
   "cell_type": "code",
   "execution_count": null,
   "id": "a871d720-b9e3-46c7-9664-246cd18389ac",
   "metadata": {},
   "outputs": [],
   "source": [
    "r23 = r2_score(y_test, xgb_pred)\n",
    "print('R-squared Score:', round(r23, 2))"
   ]
  },
  {
   "cell_type": "code",
   "execution_count": null,
   "id": "26fd41cc-db9d-4839-b1b3-44761eff084a",
   "metadata": {},
   "outputs": [],
   "source": []
  },
  {
   "cell_type": "code",
   "execution_count": null,
   "id": "8d351f55-3243-422c-a662-97be548b1834",
   "metadata": {},
   "outputs": [],
   "source": []
  },
  {
   "cell_type": "code",
   "execution_count": null,
   "id": "b419842b-524d-4805-af88-c702fc971049",
   "metadata": {},
   "outputs": [],
   "source": [
    "KM__Driven = int(input('Enter KM Driven: '))\n",
    "CC__ = int(input('Enter CC: '))\n",
    "Model__ = int(input('Enter Model: '))\n",
    "Engine_type__ = input('Enter engine type: ')\n",
    "car_name__ = input('Enter car name: ')\n",
    "Transmission__ = input('Enter transmission: ')\n",
    "\n",
    "new_data1 = {\n",
    "    'Model': Model__,\n",
    "    'CC': CC__,\n",
    "    'Engine_type': Engine_type__,\n",
    "    'Transmission': Transmission__,\n",
    "    'Km_Driven': KM__Driven,\n",
    "    'CarName': car_name__\n",
    "    \n",
    "}\n",
    "\n",
    "\n",
    "new_data = pd.DataFrame(new_data1, index=[0])\n",
    "new_data"
   ]
  },
  {
   "cell_type": "code",
   "execution_count": null,
   "id": "6e2766cb-467f-4dfa-83bb-04728fbc813b",
   "metadata": {},
   "outputs": [],
   "source": [
    "categorical_cols = ['Engine_type', 'Transmission', 'CarName']\n",
    "for col in categorical_cols:\n",
    "    le = label_encoders[col]\n",
    "    if new_data[col][0] not in le.classes_:\n",
    "        le.classes_ = np.append(le.classes_, new_data[col][0])\n",
    "    new_data[col] = le.transform(new_data[col])\n",
    "\n",
    "numerical_cols = ['Model', 'CC', 'Km_Driven']\n",
    "new_data[numerical_cols] = scaler.transform(new_data[numerical_cols])\n",
    "    \n",
    "    \n",
    "new_data = new_data[['Model', 'CC', 'Engine_type', 'Transmission', 'Km_Driven', 'CarName']]\n",
    "    \n",
    "    \n",
    "prediction = forest.predict(new_data)\n",
    "\n",
    "print(prediction)"
   ]
  },
  {
   "cell_type": "markdown",
   "id": "a6186184-17d9-43c7-97f1-084c9ab39228",
   "metadata": {},
   "source": [
    "<h1>Saving the model</h1>"
   ]
  },
  {
   "cell_type": "code",
   "execution_count": null,
   "id": "657b5f37-14e5-4db4-9cee-c9f84c5fce95",
   "metadata": {},
   "outputs": [],
   "source": [
    "pickle.dump(forest, open('model_car_price_predict.pkl', 'wb'))"
   ]
  },
  {
   "cell_type": "code",
   "execution_count": null,
   "id": "87196229-35b0-472d-8965-a9dac5759379",
   "metadata": {},
   "outputs": [],
   "source": []
  },
  {
   "cell_type": "code",
   "execution_count": null,
   "id": "88d737fc-fa93-498e-99e0-7220846edb12",
   "metadata": {},
   "outputs": [],
   "source": []
  },
  {
   "cell_type": "code",
   "execution_count": null,
   "id": "1bbe4a20-d531-4cc8-9a47-0c893713adb7",
   "metadata": {},
   "outputs": [],
   "source": []
  },
  {
   "cell_type": "code",
   "execution_count": null,
   "id": "fa891d9e-0f1c-49d3-bdcd-49331463e54f",
   "metadata": {},
   "outputs": [],
   "source": []
  },
  {
   "cell_type": "code",
   "execution_count": null,
   "id": "ecab4bb1-b8a3-417f-abae-3ac4967c2cf1",
   "metadata": {},
   "outputs": [],
   "source": [
    "with open(\"model_car_price_predict.pkl\", 'rb') as f:\n",
    "    model = pickle.load(f)\n",
    "\n",
    "y_test_pred = model.predict(X_test)\n",
    "\n",
    "y_test_pred = pd.Series(y_test_pred, index = X_test.index, name = 'bankrupt')\n",
    "y_test_pred"
   ]
  },
  {
   "cell_type": "code",
   "execution_count": null,
   "id": "a665a510-c097-4a3f-bf11-ffa095cca9a9",
   "metadata": {},
   "outputs": [],
   "source": []
  },
  {
   "cell_type": "code",
   "execution_count": null,
   "id": "a4ba2492-c498-4dc9-97b2-9f60fc2fc3cf",
   "metadata": {},
   "outputs": [],
   "source": [
    "new_data['Model_Sc'] = scaler.fit_transform(new_data['Model'].values.reshape(-1, 1))\n",
    "new_data['CC_Sc'] = scaler.fit_transform(new_data['CC'].values.reshape(-1, 1))\n",
    "new_data['Km_Driven_Sc'] = scaler.fit_transform(new_data['Km_Driven'].values.reshape(-1, 1))"
   ]
  },
  {
   "cell_type": "code",
   "execution_count": null,
   "id": "d351d868-0966-4063-a51f-a79d07584d2d",
   "metadata": {},
   "outputs": [],
   "source": [
    "new_data['Transmission_encoded'] = label_encoder.fit_transform(new_data['Transmission'])\n",
    "new_data['Engine_type_encoded'] = label_encoder.fit_transform(new_data['Engine_Type'])\n",
    "new_data['CarName_encoded'] = label_encoder.fit_transform(new_data['CarName'])"
   ]
  },
  {
   "cell_type": "code",
   "execution_count": null,
   "id": "e5f84874-b031-4423-a8c0-6316deb30cfd",
   "metadata": {},
   "outputs": [],
   "source": [
    "prediction_on_new_data = model_tree.predict(new_data)\n",
    "prediction_on_new_data"
   ]
  },
  {
   "cell_type": "code",
   "execution_count": null,
   "id": "bd73d5f1-a7ed-46c1-88b2-65f8fa7bcc5c",
   "metadata": {},
   "outputs": [],
   "source": []
  },
  {
   "cell_type": "code",
   "execution_count": null,
   "id": "ca329c32-697f-45b8-be46-1cc8e87d8e0c",
   "metadata": {},
   "outputs": [],
   "source": [
    "param_distributions = {\n",
    "    'n_estimators': [int(x) for x in np.linspace(start=100, stop=1000, num=10)],\n",
    "    'max_features': ['auto', 'sqrt'],\n",
    "    'max_depth': [int(x) for x in np.linspace(10, 110, num=11)] + [None],\n",
    "    'min_samples_split': [2, 5, 10],\n",
    "    'min_samples_leaf': [1, 2, 4],\n",
    "    'bootstrap': [True, False]\n",
    "}"
   ]
  },
  {
   "cell_type": "code",
   "execution_count": null,
   "id": "3405c6dc-bb9a-492b-aba3-d790a637f968",
   "metadata": {},
   "outputs": [],
   "source": []
  },
  {
   "cell_type": "code",
   "execution_count": null,
   "id": "4d53c683-02fa-4bd6-b4bc-f5626fd6cfb1",
   "metadata": {},
   "outputs": [],
   "source": []
  },
  {
   "cell_type": "code",
   "execution_count": null,
   "id": "adb36c56-4b54-480a-84db-c770dd13d222",
   "metadata": {},
   "outputs": [],
   "source": [
    "random_search.fit(X_train, y_train)\n",
    "round(random_search.score(X_test, y_test), 2) * 100"
   ]
  },
  {
   "cell_type": "code",
   "execution_count": null,
   "id": "b20b0c0a-89e0-49ab-9a89-bb0c9eb62a64",
   "metadata": {},
   "outputs": [],
   "source": [
    "model_forest = RandomForestRegressor(random_state = 42)\n",
    "random_search = RandomizedSearchCV(estimator=model_forest, param_distributions=param_distributions, \n",
    "                                   n_iter=100, cv=3, verbose=2, random_state=42, n_jobs=-1)"
   ]
  },
  {
   "cell_type": "code",
   "execution_count": null,
   "id": "c4c910d5-d92d-4c7a-8f3d-49c1c94aa3d2",
   "metadata": {},
   "outputs": [],
   "source": [
    "#round(grid_search.score(X_test, y_test), 2) * 100"
   ]
  },
  {
   "cell_type": "code",
   "execution_count": null,
   "id": "70a286b5-f569-43f1-b7bd-126e14c2a60e",
   "metadata": {},
   "outputs": [],
   "source": [
    "#grid_search = GridSearchCV(estimator=forest, param_grid = param_grid,  n_jobs = -1, cv = 5)\n",
    "#grid_search.fit(X_train, y_train) "
   ]
  },
  {
   "cell_type": "code",
   "execution_count": null,
   "id": "c7d1c9e8-1183-43d5-89b9-588504934a3f",
   "metadata": {},
   "outputs": [],
   "source": [
    "#param_grid = {\n",
    " #   'n_estimators': [100, 200, 300], \n",
    "  #  'max_depth': [5, 10, 15],          \n",
    "   # 'min_samples_split': [2, 5, 10],   \n",
    "    #'min_samples_leaf': [1, 2, 4]       \n",
    "#}\n",
    "\n",
    "#forest = RandomForestRegressor(random_state=42)"
   ]
  }
 ],
 "metadata": {
  "kernelspec": {
   "display_name": "Python 3 (ipykernel)",
   "language": "python",
   "name": "python3"
  },
  "language_info": {
   "codemirror_mode": {
    "name": "ipython",
    "version": 3
   },
   "file_extension": ".py",
   "mimetype": "text/x-python",
   "name": "python",
   "nbconvert_exporter": "python",
   "pygments_lexer": "ipython3",
   "version": "3.11.7"
  },
  "widgets": {
   "application/vnd.jupyter.widget-state+json": {
    "state": {},
    "version_major": 2,
    "version_minor": 0
   }
  }
 },
 "nbformat": 4,
 "nbformat_minor": 5
}
